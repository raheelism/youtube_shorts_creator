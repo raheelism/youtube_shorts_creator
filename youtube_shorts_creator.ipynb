{
  "nbformat": 4,
  "nbformat_minor": 0,
  "metadata": {
    "colab": {
      "provenance": []
    },
    "kernelspec": {
      "name": "python3",
      "display_name": "Python 3"
    },
    "language_info": {
      "name": "python"
    }
  },
  "cells": [
    {
      "cell_type": "code",
      "execution_count": 10,
      "metadata": {
        "colab": {
          "base_uri": "https://localhost:8080/"
        },
        "id": "xftg46qWhF5o",
        "outputId": "c156873b-c715-4dcb-9d93-1a3b035754ee"
      },
      "outputs": [
        {
          "output_type": "stream",
          "name": "stdout",
          "text": [
            "Video with quote created successfully!\n"
          ]
        }
      ],
      "source": [
        "import cv2\n",
        "import numpy as np\n",
        "from PIL import Image, ImageDraw, ImageFont\n",
        "\n",
        "# Define video paths and text details\n",
        "background_video_path = \"yt.mp4\"\n",
        "quote_text = \"Which one of the following \\n is correct about you?\"\n",
        "option_a, option_b, option_c, option_d = \"a) Hello\", \"b) Where\", \"c) Again\", \"d) Downward\"\n",
        "quote_writer = \"Franklin D. Roosevelt\"\n",
        "font_path = \"gb.ttf\"  # Choose a compatible font file\n",
        "font_size = 40\n",
        "text_color = (255, 255, 255)  # White text\n",
        "\n",
        "# Load background video\n",
        "cap = cv2.VideoCapture(background_video_path)\n",
        "\n",
        "# Get video properties\n",
        "width = int(cap.get(cv2.CAP_PROP_FRAME_WIDTH))\n",
        "height = int(cap.get(cv2.CAP_PROP_FRAME_HEIGHT))\n",
        "\n",
        "# Create text overlay\n",
        "text_image = Image.new(\"RGBA\", (width, height), (0, 0, 0, 0))\n",
        "draw = ImageDraw.Draw(text_image)\n",
        "font = ImageFont.truetype(font_path, font_size)\n",
        "draw.text((width // 2, height // 2.1), quote_text, font=font, anchor=\"mm\", fill=text_color)\n",
        "draw.text((width // 2, height // 1.85), option_a, font=font, anchor=\"mm\", fill=text_color)\n",
        "draw.text((width // 2, height // 1.75), option_b, font=font, anchor=\"mm\", fill=text_color)\n",
        "draw.text((width // 2, height // 1.65), option_c, font=font, anchor=\"mm\", fill=text_color)\n",
        "draw.text((width // 2, height // 1.55), option_d, font=font, anchor=\"mm\", fill=text_color)\n",
        "\n",
        "\n",
        "# Define output video parameters\n",
        "output_video_path = \"quote_video.mp4\"\n",
        "fourcc = cv2.VideoWriter_fourcc(*\"mp4v\")\n",
        "out = cv2.VideoWriter(output_video_path, fourcc, 20.0, (width, height))\n",
        "\n",
        "# Process video frames and add text overlay\n",
        "while True:\n",
        "    ret, frame = cap.read()\n",
        "\n",
        "    if not ret:\n",
        "        break\n",
        "\n",
        "    # Convert frame to BGR for OpenCV\n",
        "    frame = cv2.cvtColor(frame, cv2.COLOR_BGR2RGBA)\n",
        "\n",
        "    # Combine frame with text image\n",
        "    frame_pil = Image.fromarray(frame)\n",
        "    frame_pil.paste(text_image, mask=text_image)\n",
        "\n",
        "    # Convert back to BGR and write to output video\n",
        "    frame_array = np.array(frame_pil)\n",
        "    frame = cv2.cvtColor(frame_array, cv2.COLOR_RGBA2BGR)\n",
        "    out.write(frame)\n",
        "\n",
        "# Release resources\n",
        "cap.release()\n",
        "out.release()\n",
        "cv2.destroyAllWindows()\n",
        "\n",
        "print(\"Video with quote created successfully!\")\n"
      ]
    },
    {
      "cell_type": "code",
      "source": [
        "print(\"There are many ways of going forward,\\n but only one way of standing still.\")"
      ],
      "metadata": {
        "colab": {
          "base_uri": "https://localhost:8080/"
        },
        "id": "KpmpbQZ1k3S0",
        "outputId": "ef62a030-6e41-457f-e34a-fe8c57e6b8c9"
      },
      "execution_count": 7,
      "outputs": [
        {
          "output_type": "stream",
          "name": "stdout",
          "text": [
            "There are many ways of going forward,\n",
            " but only one way of standing still.\n"
          ]
        }
      ]
    }
  ]
}
